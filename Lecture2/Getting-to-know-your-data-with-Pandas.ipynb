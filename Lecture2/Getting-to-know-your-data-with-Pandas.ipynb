{
 "cells": [
  {
   "cell_type": "markdown",
   "metadata": {},
   "source": [
    "# Getting to know your data with Pandas"
   ]
  },
  {
   "cell_type": "markdown",
   "metadata": {},
   "source": [
    "## What is Pandas"
   ]
  },
  {
   "cell_type": "markdown",
   "metadata": {},
   "source": [
    "Pandas is Python Data Analysis Library. Pandas provides an R-like DataFrame, produces high quality plots with matplotlib, and integrates nicely with other libraries that expect NumPy arrays."
   ]
  },
  {
   "cell_type": "markdown",
   "metadata": {},
   "source": [
    "## Getting started"
   ]
  },
  {
   "cell_type": "code",
   "execution_count": 2,
   "metadata": {
    "collapsed": false
   },
   "outputs": [
    {
     "name": "stderr",
     "output_type": "stream",
     "text": [
      "/Users/Gladius/anaconda2/envs/python2/lib/python2.7/site-packages/matplotlib/__init__.py:872: UserWarning: axes.color_cycle is deprecated and replaced with axes.prop_cycle; please use the latter.\n",
      "  warnings.warn(self.msg_depr % (key, alt_key))\n"
     ]
    }
   ],
   "source": [
    "\n",
    "import pandas as pd\n",
    "import pandas_datareader.data as web\n",
    "from pandas import Series, DataFrame\n",
    "\n",
    "import matplotlib.pyplot as plt\n",
    "import matplotlib as mpl\n",
    "import seaborn as sns\n",
    "\n",
    "\n",
    "from datetime import datetime\n",
    "\n",
    "#pd.__version__\n",
    "\n",
    "%matplotlib inline"
   ]
  },
  {
   "cell_type": "markdown",
   "metadata": {},
   "source": [
    "## Fetching storing and retrieving your data"
   ]
  },
  {
   "cell_type": "markdown",
   "metadata": {},
   "source": [
    "More information on what types of data you can fetch\n",
    "\n",
    "http://pandas.pydata.org/pandas-docs/stable/remote_data.html"
   ]
  },
  {
   "cell_type": "code",
   "execution_count": 3,
   "metadata": {
    "collapsed": false,
    "scrolled": true
   },
   "outputs": [
    {
     "data": {
      "text/html": [
       "<div>\n",
       "<table border=\"1\" class=\"dataframe\">\n",
       "  <thead>\n",
       "    <tr style=\"text-align: right;\">\n",
       "      <th></th>\n",
       "      <th>Open</th>\n",
       "      <th>High</th>\n",
       "      <th>Low</th>\n",
       "      <th>Close</th>\n",
       "      <th>Volume</th>\n",
       "      <th>Adj Close</th>\n",
       "    </tr>\n",
       "    <tr>\n",
       "      <th>Date</th>\n",
       "      <th></th>\n",
       "      <th></th>\n",
       "      <th></th>\n",
       "      <th></th>\n",
       "      <th></th>\n",
       "      <th></th>\n",
       "    </tr>\n",
       "  </thead>\n",
       "  <tbody>\n",
       "    <tr>\n",
       "      <th>2012-03-02</th>\n",
       "      <td>22.010000</td>\n",
       "      <td>26.000000</td>\n",
       "      <td>22.000000</td>\n",
       "      <td>24.58</td>\n",
       "      <td>4809400</td>\n",
       "      <td>24.58</td>\n",
       "    </tr>\n",
       "    <tr>\n",
       "      <th>2012-03-05</th>\n",
       "      <td>24.850000</td>\n",
       "      <td>24.860001</td>\n",
       "      <td>20.900000</td>\n",
       "      <td>20.99</td>\n",
       "      <td>2988200</td>\n",
       "      <td>20.99</td>\n",
       "    </tr>\n",
       "    <tr>\n",
       "      <th>2012-03-06</th>\n",
       "      <td>19.830000</td>\n",
       "      <td>20.500000</td>\n",
       "      <td>19.360001</td>\n",
       "      <td>20.50</td>\n",
       "      <td>1154300</td>\n",
       "      <td>20.50</td>\n",
       "    </tr>\n",
       "    <tr>\n",
       "      <th>2012-03-07</th>\n",
       "      <td>20.450001</td>\n",
       "      <td>20.629999</td>\n",
       "      <td>19.950001</td>\n",
       "      <td>20.25</td>\n",
       "      <td>444800</td>\n",
       "      <td>20.25</td>\n",
       "    </tr>\n",
       "    <tr>\n",
       "      <th>2012-03-08</th>\n",
       "      <td>20.299999</td>\n",
       "      <td>20.389999</td>\n",
       "      <td>19.959999</td>\n",
       "      <td>20.00</td>\n",
       "      <td>436900</td>\n",
       "      <td>20.00</td>\n",
       "    </tr>\n",
       "  </tbody>\n",
       "</table>\n",
       "</div>"
      ],
      "text/plain": [
       "                 Open       High        Low  Close   Volume  Adj Close\n",
       "Date                                                                  \n",
       "2012-03-02  22.010000  26.000000  22.000000  24.58  4809400      24.58\n",
       "2012-03-05  24.850000  24.860001  20.900000  20.99  2988200      20.99\n",
       "2012-03-06  19.830000  20.500000  19.360001  20.50  1154300      20.50\n",
       "2012-03-07  20.450001  20.629999  19.950001  20.25   444800      20.25\n",
       "2012-03-08  20.299999  20.389999  19.959999  20.00   436900      20.00"
      ]
     },
     "execution_count": 3,
     "metadata": {},
     "output_type": "execute_result"
    }
   ],
   "source": [
    "#yahoo data\n",
    "#stocks = ['ORCL', 'TSLA', 'IBM','YELP', 'MSFT']\n",
    "stocks = 'YELP'\n",
    "#ls_key = 'Adj Close'\n",
    "\n",
    "yahoo_stocks = web.get_data_yahoo(stocks)\n",
    "\n",
    "yahoo_stocks.head()\n",
    "#yahoo_stocks.info()"
   ]
  },
  {
   "cell_type": "markdown",
   "metadata": {},
   "source": [
    "More on pandas data frames: \n",
    "\n",
    "\n",
    "http://pandas.pydata.org/pandas-docs/dev/generated/pandas.DataFrame.html"
   ]
  },
  {
   "cell_type": "markdown",
   "metadata": {},
   "source": [
    "#### Reading data from a .csv file"
   ]
  },
  {
   "cell_type": "markdown",
   "metadata": {},
   "source": [
    "Some basic commands for reading and getting to know the characteristics of your data"
   ]
  },
  {
   "cell_type": "code",
   "execution_count": 4,
   "metadata": {
    "collapsed": false,
    "scrolled": true
   },
   "outputs": [
    {
     "name": "stdout",
     "output_type": "stream",
     "text": [
      "           Date       Open       High        Low      Close   Volume  \\\n",
      "0    2012-03-02  22.010000  26.000000  22.000000  24.580000  4809400   \n",
      "1    2012-03-05  24.850000  24.860001  20.900000  20.990000  2988200   \n",
      "2    2012-03-06  19.830000  20.500000  19.360001  20.500000  1154300   \n",
      "3    2012-03-07  20.450001  20.629999  19.950001  20.250000   444800   \n",
      "4    2012-03-08  20.299999  20.389999  19.959999  20.000000   436900   \n",
      "5    2012-03-09  20.000000  20.100000  19.500000  19.799999   668200   \n",
      "6    2012-03-12  19.799999  22.490000  19.520000  22.490000  1358200   \n",
      "7    2012-03-13  22.549999  24.400000  22.200001  23.299999  2053900   \n",
      "8    2012-03-14  23.270000  23.350000  22.200001  22.320000   589600   \n",
      "9    2012-03-15  22.450001  23.290001  21.360001  21.750000   875600   \n",
      "10   2012-03-16  21.930000  22.170000  21.059999  21.740000   433600   \n",
      "11   2012-03-19  22.200001  23.930000  21.700001  22.990000   858400   \n",
      "12   2012-03-20  23.150000  23.469999  22.100000  22.900000   782200   \n",
      "13   2012-03-21  23.000000  24.100000  22.680000  23.120001  1375000   \n",
      "14   2012-03-22  23.320000  23.320000  22.440001  23.219999   370800   \n",
      "15   2012-03-23  23.219999  23.250000  22.299999  23.180000   307000   \n",
      "16   2012-03-26  23.260000  24.879999  23.010000  24.600000  1052000   \n",
      "17   2012-03-27  24.799999  27.750000  24.250000  27.650000  3141300   \n",
      "18   2012-03-28  27.520000  31.959999  27.100000  28.090000  5267300   \n",
      "19   2012-03-29  27.990000  29.780001  27.580000  28.010000  1425200   \n",
      "20   2012-03-30  28.580000  29.270000  25.820000  26.889999  1887200   \n",
      "21   2012-04-02  26.900000  27.799999  25.270000  27.120001  1166500   \n",
      "22   2012-04-03  27.200001  28.400000  25.920000  26.700001  1384800   \n",
      "23   2012-04-04  25.940001  27.000000  25.940001  26.160000   440700   \n",
      "24   2012-04-05  25.959999  26.400000  24.020000  24.170000  1352200   \n",
      "25   2012-04-09  23.860001  25.580000  22.740000  25.219999  1397800   \n",
      "26   2012-04-10  25.450001  26.510000  24.500000  25.809999  1027500   \n",
      "27   2012-04-11  25.469999  26.250000  24.570000  25.430000  1004200   \n",
      "28   2012-04-12  25.209999  26.440001  25.170000  26.200001   728000   \n",
      "29   2012-04-13  26.000000  26.969999  25.440001  26.330000   508200   \n",
      "..          ...        ...        ...        ...        ...      ...   \n",
      "959  2015-12-23  27.950001  28.420000  27.440001  28.150000   995700   \n",
      "960  2015-12-24  28.270000  28.590000  27.900000  28.400000   587400   \n",
      "961  2015-12-28  28.120001  28.379999  27.770000  27.879999  1004500   \n",
      "962  2015-12-29  27.950001  28.540001  27.740000  28.480000  1103900   \n",
      "963  2015-12-30  28.580000  28.780001  28.170000  28.250000  1068000   \n",
      "964  2015-12-31  28.100000  28.969999  28.020000  28.799999  1295600   \n",
      "965  2016-01-04  28.400000  28.549999  27.049999  27.600000  1969000   \n",
      "966  2016-01-05  27.700001  27.840000  26.580000  26.620001  1670200   \n",
      "967  2016-01-06  26.250000  26.660000  25.340000  25.910000  2180600   \n",
      "968  2016-01-07  25.280001  26.299999  25.070000  25.270000  1378300   \n",
      "969  2016-01-08  25.540001  25.900000  24.500000  25.049999  2138100   \n",
      "970  2016-01-11  25.030001  25.100000  23.770000  24.309999  1960700   \n",
      "971  2016-01-12  24.370001  25.299999  22.910000  23.639999  2061000   \n",
      "972  2016-01-13  23.959999  24.030001  21.540001  22.070000  3137900   \n",
      "973  2016-01-14  20.799999  22.059999  18.940001  21.590000  6789700   \n",
      "974  2016-01-15  20.719999  21.549999  20.290001  21.309999  2863500   \n",
      "975  2016-01-19  21.639999  21.990000  20.360001  20.790001  2491500   \n",
      "976  2016-01-20  20.270000  21.629999  19.549999  21.139999  3721400   \n",
      "977  2016-01-21  21.190001  21.969999  20.459999  20.980000  2498500   \n",
      "978  2016-01-22  21.190001  21.920000  20.920000  21.730000  1998100   \n",
      "979  2016-01-25  21.570000  21.930000  21.250000  21.660000  2183900   \n",
      "980  2016-01-26  21.590000  22.870001  21.000000  21.879999  2855100   \n",
      "981  2016-01-27  21.900000  22.570000  21.330000  21.590000  1886200   \n",
      "982  2016-01-28  21.559999  22.200001  20.320000  20.790001  2331800   \n",
      "983  2016-01-29  20.799999  21.780001  20.760000  20.950001  2799200   \n",
      "984  2016-02-01  21.049999  21.270000  20.120001  21.059999  2532800   \n",
      "985  2016-02-02  20.879999  20.940001  19.559999  20.040001  2520300   \n",
      "986  2016-02-03  20.110001  20.440001  18.760000  19.530001  2614400   \n",
      "987  2016-02-04  19.559999  20.350000  19.330000  19.770000  2605600   \n",
      "988  2016-02-05  19.430000  19.450001  17.930000  18.100000  4836300   \n",
      "\n",
      "     Adj Close  \n",
      "0    24.580000  \n",
      "1    20.990000  \n",
      "2    20.500000  \n",
      "3    20.250000  \n",
      "4    20.000000  \n",
      "5    19.799999  \n",
      "6    22.490000  \n",
      "7    23.299999  \n",
      "8    22.320000  \n",
      "9    21.750000  \n",
      "10   21.740000  \n",
      "11   22.990000  \n",
      "12   22.900000  \n",
      "13   23.120001  \n",
      "14   23.219999  \n",
      "15   23.180000  \n",
      "16   24.600000  \n",
      "17   27.650000  \n",
      "18   28.090000  \n",
      "19   28.010000  \n",
      "20   26.889999  \n",
      "21   27.120001  \n",
      "22   26.700001  \n",
      "23   26.160000  \n",
      "24   24.170000  \n",
      "25   25.219999  \n",
      "26   25.809999  \n",
      "27   25.430000  \n",
      "28   26.200001  \n",
      "29   26.330000  \n",
      "..         ...  \n",
      "959  28.150000  \n",
      "960  28.400000  \n",
      "961  27.879999  \n",
      "962  28.480000  \n",
      "963  28.250000  \n",
      "964  28.799999  \n",
      "965  27.600000  \n",
      "966  26.620001  \n",
      "967  25.910000  \n",
      "968  25.270000  \n",
      "969  25.049999  \n",
      "970  24.309999  \n",
      "971  23.639999  \n",
      "972  22.070000  \n",
      "973  21.590000  \n",
      "974  21.309999  \n",
      "975  20.790001  \n",
      "976  21.139999  \n",
      "977  20.980000  \n",
      "978  21.730000  \n",
      "979  21.660000  \n",
      "980  21.879999  \n",
      "981  21.590000  \n",
      "982  20.790001  \n",
      "983  20.950001  \n",
      "984  21.059999  \n",
      "985  20.040001  \n",
      "986  19.530001  \n",
      "987  19.770000  \n",
      "988  18.100000  \n",
      "\n",
      "[989 rows x 7 columns]\n"
     ]
    }
   ],
   "source": [
    "yahoo_stocks.to_csv('yahoo_data.csv')\n",
    "#print(open('yahoo_data.csv').read())\n",
    "df = pd.read_csv('yahoo_data.csv')#, index_col='Date', infer_datetime_format=True, parse_dates=True)\n",
    "#print df.head()\n",
    "#print df.info()\n",
    "#print df.index\n",
    "print df"
   ]
  },
  {
   "cell_type": "code",
   "execution_count": 5,
   "metadata": {
    "collapsed": false
   },
   "outputs": [
    {
     "name": "stdout",
     "output_type": "stream",
     "text": [
      "989\n"
     ]
    }
   ],
   "source": [
    "#The number of tuples in your data\n",
    "print len(df)"
   ]
  },
  {
   "cell_type": "markdown",
   "metadata": {},
   "source": [
    "## Playing with data columns"
   ]
  },
  {
   "cell_type": "code",
   "execution_count": 6,
   "metadata": {
    "collapsed": false
   },
   "outputs": [
    {
     "name": "stdout",
     "output_type": "stream",
     "text": [
      "Index([u'Date', u'Open', u'High', u'Low', u'Close', u'Volume', u'Adj Close'], dtype='object')\n"
     ]
    }
   ],
   "source": [
    "#The columns/features of your data\n",
    "print df.columns"
   ]
  },
  {
   "cell_type": "code",
   "execution_count": 7,
   "metadata": {
    "collapsed": false
   },
   "outputs": [
    {
     "name": "stdout",
     "output_type": "stream",
     "text": [
      "0      22.010000\n",
      "1      24.850000\n",
      "2      19.830000\n",
      "3      20.450001\n",
      "4      20.299999\n",
      "5      20.000000\n",
      "6      19.799999\n",
      "7      22.549999\n",
      "8      23.270000\n",
      "9      22.450001\n",
      "10     21.930000\n",
      "11     22.200001\n",
      "12     23.150000\n",
      "13     23.000000\n",
      "14     23.320000\n",
      "15     23.219999\n",
      "16     23.260000\n",
      "17     24.799999\n",
      "18     27.520000\n",
      "19     27.990000\n",
      "20     28.580000\n",
      "21     26.900000\n",
      "22     27.200001\n",
      "23     25.940001\n",
      "24     25.959999\n",
      "25     23.860001\n",
      "26     25.450001\n",
      "27     25.469999\n",
      "28     25.209999\n",
      "29     26.000000\n",
      "         ...    \n",
      "959    27.950001\n",
      "960    28.270000\n",
      "961    28.120001\n",
      "962    27.950001\n",
      "963    28.580000\n",
      "964    28.100000\n",
      "965    28.400000\n",
      "966    27.700001\n",
      "967    26.250000\n",
      "968    25.280001\n",
      "969    25.540001\n",
      "970    25.030001\n",
      "971    24.370001\n",
      "972    23.959999\n",
      "973    20.799999\n",
      "974    20.719999\n",
      "975    21.639999\n",
      "976    20.270000\n",
      "977    21.190001\n",
      "978    21.190001\n",
      "979    21.570000\n",
      "980    21.590000\n",
      "981    21.900000\n",
      "982    21.559999\n",
      "983    20.799999\n",
      "984    21.049999\n",
      "985    20.879999\n",
      "986    20.110001\n",
      "987    19.559999\n",
      "988    19.430000\n",
      "Name: Open, dtype: float64\n"
     ]
    }
   ],
   "source": [
    "#Selecting a single column from your data\n",
    "print df['Open']"
   ]
  },
  {
   "cell_type": "code",
   "execution_count": 8,
   "metadata": {
    "collapsed": false
   },
   "outputs": [
    {
     "name": "stdout",
     "output_type": "stream",
     "text": [
      "0      22.010000\n",
      "1      24.850000\n",
      "2      19.830000\n",
      "3      20.450001\n",
      "4      20.299999\n",
      "5      20.000000\n",
      "6      19.799999\n",
      "7      22.549999\n",
      "8      23.270000\n",
      "9      22.450001\n",
      "10     21.930000\n",
      "11     22.200001\n",
      "12     23.150000\n",
      "13     23.000000\n",
      "14     23.320000\n",
      "15     23.219999\n",
      "16     23.260000\n",
      "17     24.799999\n",
      "18     27.520000\n",
      "19     27.990000\n",
      "20     28.580000\n",
      "21     26.900000\n",
      "22     27.200001\n",
      "23     25.940001\n",
      "24     25.959999\n",
      "25     23.860001\n",
      "26     25.450001\n",
      "27     25.469999\n",
      "28     25.209999\n",
      "29     26.000000\n",
      "         ...    \n",
      "959    27.950001\n",
      "960    28.270000\n",
      "961    28.120001\n",
      "962    27.950001\n",
      "963    28.580000\n",
      "964    28.100000\n",
      "965    28.400000\n",
      "966    27.700001\n",
      "967    26.250000\n",
      "968    25.280001\n",
      "969    25.540001\n",
      "970    25.030001\n",
      "971    24.370001\n",
      "972    23.959999\n",
      "973    20.799999\n",
      "974    20.719999\n",
      "975    21.639999\n",
      "976    20.270000\n",
      "977    21.190001\n",
      "978    21.190001\n",
      "979    21.570000\n",
      "980    21.590000\n",
      "981    21.900000\n",
      "982    21.559999\n",
      "983    20.799999\n",
      "984    21.049999\n",
      "985    20.879999\n",
      "986    20.110001\n",
      "987    19.559999\n",
      "988    19.430000\n",
      "Name: Open, dtype: float64\n"
     ]
    }
   ],
   "source": [
    "#Another way of selecting a single column from your data\n",
    "print df.Open"
   ]
  },
  {
   "cell_type": "code",
   "execution_count": 9,
   "metadata": {
    "collapsed": false
   },
   "outputs": [
    {
     "name": "stdout",
     "output_type": "stream",
     "text": [
      "Index([u'Date', u'Open', u'High', u'Low', u'Close', u'Volume', u'Adj Close'], dtype='object')\n",
      "<class 'pandas.core.frame.DataFrame'>\n",
      "Int64Index: 989 entries, 0 to 988\n",
      "Data columns (total 2 columns):\n",
      "Open     989 non-null float64\n",
      "Close    989 non-null float64\n",
      "dtypes: float64(2)\n",
      "memory usage: 23.2 KB\n",
      "None\n"
     ]
    }
   ],
   "source": [
    "print df.columns\n",
    "print (df[['Open','Close']]).info()\n",
    "#print df[['Open','Close']]"
   ]
  },
  {
   "cell_type": "code",
   "execution_count": 10,
   "metadata": {
    "collapsed": false
   },
   "outputs": [
    {
     "name": "stdout",
     "output_type": "stream",
     "text": [
      "0    2012-03-02\n",
      "1    2012-03-05\n",
      "2    2012-03-06\n",
      "3    2012-03-07\n",
      "4    2012-03-08\n",
      "5    2012-03-09\n",
      "6    2012-03-12\n",
      "7    2012-03-13\n",
      "8    2012-03-14\n",
      "9    2012-03-15\n",
      "Name: Date, dtype: object\n",
      "979    2016-01-25\n",
      "980    2016-01-26\n",
      "981    2016-01-27\n",
      "982    2016-01-28\n",
      "983    2016-01-29\n",
      "984    2016-02-01\n",
      "985    2016-02-02\n",
      "986    2016-02-03\n",
      "987    2016-02-04\n",
      "988    2016-02-05\n",
      "Name: Date, dtype: object\n"
     ]
    }
   ],
   "source": [
    "print df.Date.head(10)\n",
    "print df.Date.tail(10)\n"
   ]
  },
  {
   "cell_type": "code",
   "execution_count": 11,
   "metadata": {
    "collapsed": false
   },
   "outputs": [
    {
     "name": "stdout",
     "output_type": "stream",
     "text": [
      "0    2012-03-02\n",
      "1    2012-03-05\n",
      "2    2012-03-06\n",
      "3    2012-03-07\n",
      "4    2012-03-08\n",
      "5    2012-03-09\n",
      "6    2012-03-12\n",
      "7    2012-03-13\n",
      "8    2012-03-14\n",
      "9    2012-03-15\n",
      "Name: Date, dtype: object\n",
      "979    2016-01-25\n",
      "980    2016-01-26\n",
      "981    2016-01-27\n",
      "982    2016-01-28\n",
      "983    2016-01-29\n",
      "984    2016-02-01\n",
      "985    2016-02-02\n",
      "986    2016-02-03\n",
      "987    2016-02-04\n",
      "988    2016-02-05\n",
      "Name: Date, dtype: object\n"
     ]
    }
   ],
   "source": [
    "#alternative\n",
    "print df['Date'].head(10)\n",
    "print df['Date'].tail(10)"
   ]
  },
  {
   "cell_type": "markdown",
   "metadata": {},
   "source": [
    "#### Changing the column names"
   ]
  },
  {
   "cell_type": "code",
   "execution_count": 12,
   "metadata": {
    "collapsed": false
   },
   "outputs": [
    {
     "name": "stdout",
     "output_type": "stream",
     "text": [
      "<class 'pandas.core.frame.DataFrame'>\n",
      "Int64Index: 989 entries, 0 to 988\n",
      "Data columns (total 7 columns):\n",
      "date         989 non-null object\n",
      "open         989 non-null float64\n",
      "high         989 non-null float64\n",
      "low          989 non-null float64\n",
      "close        989 non-null float64\n",
      "volume       989 non-null int64\n",
      "adj_close    989 non-null float64\n",
      "dtypes: float64(5), int64(1), object(1)\n",
      "memory usage: 61.8+ KB\n",
      "None\n"
     ]
    }
   ],
   "source": [
    "new_column_names = [ x.lower().replace(' ','_') for x in df.columns]\n",
    "new_column_names\n",
    "df.columns = new_column_names\n",
    "print df.info()"
   ]
  },
  {
   "cell_type": "markdown",
   "metadata": {},
   "source": [
    "#### Now **all** columns can be accessed using the **dot** notation"
   ]
  },
  {
   "cell_type": "code",
   "execution_count": 13,
   "metadata": {
    "collapsed": false
   },
   "outputs": [
    {
     "name": "stdout",
     "output_type": "stream",
     "text": [
      "0      24.580000\n",
      "1      20.990000\n",
      "2      20.500000\n",
      "3      20.250000\n",
      "4      20.000000\n",
      "5      19.799999\n",
      "6      22.490000\n",
      "7      23.299999\n",
      "8      22.320000\n",
      "9      21.750000\n",
      "10     21.740000\n",
      "11     22.990000\n",
      "12     22.900000\n",
      "13     23.120001\n",
      "14     23.219999\n",
      "15     23.180000\n",
      "16     24.600000\n",
      "17     27.650000\n",
      "18     28.090000\n",
      "19     28.010000\n",
      "20     26.889999\n",
      "21     27.120001\n",
      "22     26.700001\n",
      "23     26.160000\n",
      "24     24.170000\n",
      "25     25.219999\n",
      "26     25.809999\n",
      "27     25.430000\n",
      "28     26.200001\n",
      "29     26.330000\n",
      "         ...    \n",
      "959    28.150000\n",
      "960    28.400000\n",
      "961    27.879999\n",
      "962    28.480000\n",
      "963    28.250000\n",
      "964    28.799999\n",
      "965    27.600000\n",
      "966    26.620001\n",
      "967    25.910000\n",
      "968    25.270000\n",
      "969    25.049999\n",
      "970    24.309999\n",
      "971    23.639999\n",
      "972    22.070000\n",
      "973    21.590000\n",
      "974    21.309999\n",
      "975    20.790001\n",
      "976    21.139999\n",
      "977    20.980000\n",
      "978    21.730000\n",
      "979    21.660000\n",
      "980    21.879999\n",
      "981    21.590000\n",
      "982    20.790001\n",
      "983    20.950001\n",
      "984    21.059999\n",
      "985    20.040001\n",
      "986    19.530001\n",
      "987    19.770000\n",
      "988    18.100000\n",
      "Name: adj_close, dtype: float64\n"
     ]
    }
   ],
   "source": [
    "print df.adj_close"
   ]
  },
  {
   "cell_type": "code",
   "execution_count": 14,
   "metadata": {
    "collapsed": false,
    "scrolled": false
   },
   "outputs": [
    {
     "name": "stdout",
     "output_type": "stream",
     "text": [
      "0    24.58\n",
      "1    20.99\n",
      "2    20.50\n",
      "3    20.25\n",
      "4    20.00\n",
      "Name: adj_close, dtype: float64\n"
     ]
    }
   ],
   "source": [
    "print df.adj_close.head()"
   ]
  },
  {
   "cell_type": "markdown",
   "metadata": {},
   "source": [
    "#### We can now apply methods on different columns"
   ]
  },
  {
   "cell_type": "code",
   "execution_count": 15,
   "metadata": {
    "collapsed": false
   },
   "outputs": [
    {
     "name": "stdout",
     "output_type": "stream",
     "text": [
      "open              43.550455\n",
      "high              44.577260\n",
      "low               42.477149\n",
      "close             43.508089\n",
      "volume       2821465.318504\n",
      "adj_close         43.508089\n",
      "dtype: float64\n"
     ]
    }
   ],
   "source": [
    "print df.mean()\n",
    "#df.std()\n",
    "#df.median()\n",
    "#df.open.mean()\n",
    "#df.high.mean()"
   ]
  },
  {
   "cell_type": "markdown",
   "metadata": {},
   "source": [
    "#### Plotting some columns"
   ]
  },
  {
   "cell_type": "code",
   "execution_count": 20,
   "metadata": {
    "collapsed": false
   },
   "outputs": [
    {
     "data": {
      "text/plain": [
       "<matplotlib.legend.Legend at 0x10c0e46d0>"
      ]
     },
     "execution_count": 20,
     "metadata": {},
     "output_type": "execute_result"
    },
    {
     "data": {
      "image/png": "[encoded data removed]",
      "text/plain": [
       "<matplotlib.figure.Figure at 0x10bdcf790>"
      ]
     },
     "metadata": {},
     "output_type": "display_data"
    }
   ],
   "source": [
    "df.adj_close.plot(label='adj')\n",
    "df.low.plot(label='close')\n",
    "df.low.plot()\n",
    "plt.legend(loc=2)"
   ]
  },
  {
   "cell_type": "code",
   "execution_count": 22,
   "metadata": {
    "collapsed": false
   },
   "outputs": [
    {
     "data": {
      "text/plain": [
       "<matplotlib.axes._subplots.AxesSubplot at 0x10c440410>"
      ]
     },
     "execution_count": 22,
     "metadata": {},
     "output_type": "execute_result"
    },
    {
     "data": {
      "image/png": "[encoded data removed]",
      "text/plain": [
       "<matplotlib.figure.Figure at 0x10c584190>"
      ]
     },
     "metadata": {},
     "output_type": "display_data"
    }
   ],
   "source": [
    "df.adj_close.hist()\n",
    "df.volume.hist()"
   ]
  },
  {
   "cell_type": "markdown",
   "metadata": {},
   "source": [
    "## Bulk Operations"
   ]
  },
  {
   "cell_type": "markdown",
   "metadata": {},
   "source": [
    "Methods like **sum( )** and **std( )** work on entire columns. We can run our own functions across all values in a column (or row) using **apply( )**."
   ]
  },
  {
   "cell_type": "code",
   "execution_count": 23,
   "metadata": {
    "collapsed": false
   },
   "outputs": [
    {
     "name": "stdout",
     "output_type": "stream",
     "text": [
      "0    2012-03-02\n",
      "1    2012-03-05\n",
      "2    2012-03-06\n",
      "3    2012-03-07\n",
      "4    2012-03-08\n",
      "Name: date, dtype: object\n"
     ]
    }
   ],
   "source": [
    "print df.date.head()"
   ]
  },
  {
   "cell_type": "markdown",
   "metadata": {},
   "source": [
    "The **values** property of the column returns a list of values for the column. Inspecting the first value reveals that these are strings with a particular format."
   ]
  },
  {
   "cell_type": "code",
   "execution_count": 24,
   "metadata": {
    "collapsed": false
   },
   "outputs": [
    {
     "name": "stdout",
     "output_type": "stream",
     "text": [
      "['2012-03-02' '2012-03-05' '2012-03-06' '2012-03-07' '2012-03-08'\n",
      " '2012-03-09' '2012-03-12' '2012-03-13' '2012-03-14' '2012-03-15'\n",
      " '2012-03-16' '2012-03-19' '2012-03-20' '2012-03-21' '2012-03-22'\n",
      " '2012-03-23' '2012-03-26' '2012-03-27' '2012-03-28' '2012-03-29'\n",
      " '2012-03-30' '2012-04-02' '2012-04-03' '2012-04-04' '2012-04-05'\n",
      " '2012-04-09' '2012-04-10' '2012-04-11' '2012-04-12' '2012-04-13'\n",
      " '2012-04-16' '2012-04-17' '2012-04-18' '2012-04-19' '2012-04-20'\n",
      " '2012-04-23' '2012-04-24' '2012-04-25' '2012-04-26' '2012-04-27'\n",
      " '2012-04-30' '2012-05-01' '2012-05-02' '2012-05-03' '2012-05-04'\n",
      " '2012-05-07' '2012-05-08' '2012-05-09' '2012-05-10' '2012-05-11'\n",
      " '2012-05-14' '2012-05-15' '2012-05-16' '2012-05-17' '2012-05-18'\n",
      " '2012-05-21' '2012-05-22' '2012-05-23' '2012-05-24' '2012-05-25'\n",
      " '2012-05-29' '2012-05-30' '2012-05-31' '2012-06-01' '2012-06-04'\n",
      " '2012-06-05' '2012-06-06' '2012-06-07' '2012-06-08' '2012-06-11'\n",
      " '2012-06-12' '2012-06-13' '2012-06-14' '2012-06-15' '2012-06-18'\n",
      " '2012-06-19' '2012-06-20' '2012-06-21' '2012-06-22' '2012-06-25'\n",
      " '2012-06-26' '2012-06-27' '2012-06-28' '2012-06-29' '2012-07-02'\n",
      " '2012-07-03' '2012-07-05' '2012-07-06' '2012-07-09' '2012-07-10'\n",
      " '2012-07-11' '2012-07-12' '2012-07-13' '2012-07-16' '2012-07-17'\n",
      " '2012-07-18' '2012-07-19' '2012-07-20' '2012-07-23' '2012-07-24'\n",
      " '2012-07-25' '2012-07-26' '2012-07-27' '2012-07-30' '2012-07-31'\n",
      " '2012-08-01' '2012-08-02' '2012-08-03' '2012-08-06' '2012-08-07'\n",
      " '2012-08-08' '2012-08-09' '2012-08-10' '2012-08-13' '2012-08-14'\n",
      " '2012-08-15' '2012-08-16' '2012-08-17' '2012-08-20' '2012-08-21'\n",
      " '2012-08-22' '2012-08-23' '2012-08-24' '2012-08-27' '2012-08-28'\n",
      " '2012-08-29' '2012-08-30' '2012-08-31' '2012-09-04' '2012-09-05'\n",
      " '2012-09-06' '2012-09-07' '2012-09-10' '2012-09-11' '2012-09-12'\n",
      " '2012-09-13' '2012-09-14' '2012-09-17' '2012-09-18' '2012-09-19'\n",
      " '2012-09-20' '2012-09-21' '2012-09-24' '2012-09-25' '2012-09-26'\n",
      " '2012-09-27' '2012-09-28' '2012-10-01' '2012-10-02' '2012-10-03'\n",
      " '2012-10-04' '2012-10-05' '2012-10-08' '2012-10-09' '2012-10-10'\n",
      " '2012-10-11' '2012-10-12' '2012-10-15' '2012-10-16' '2012-10-17'\n",
      " '2012-10-18' '2012-10-19' '2012-10-22' '2012-10-23' '2012-10-24'\n",
      " '2012-10-25' '2012-10-26' '2012-10-31' '2012-11-01' '2012-11-02'\n",
      " '2012-11-05' '2012-11-06' '2012-11-07' '2012-11-08' '2012-11-09'\n",
      " '2012-11-12' '2012-11-13' '2012-11-14' '2012-11-15' '2012-11-16'\n",
      " '2012-11-19' '2012-11-20' '2012-11-21' '2012-11-23' '2012-11-26'\n",
      " '2012-11-27' '2012-11-28' '2012-11-29' '2012-11-30' '2012-12-03'\n",
      " '2012-12-04' '2012-12-05' '2012-12-06' '2012-12-07' '2012-12-10'\n",
      " '2012-12-11' '2012-12-12' '2012-12-13' '2012-12-14' '2012-12-17'\n",
      " '2012-12-18' '2012-12-19' '2012-12-20' '2012-12-21' '2012-12-24'\n",
      " '2012-12-26' '2012-12-27' '2012-12-28' '2012-12-31' '2013-01-02'\n",
      " '2013-01-03' '2013-01-04' '2013-01-07' '2013-01-08' '2013-01-09'\n",
      " '2013-01-10' '2013-01-11' '2013-01-14' '2013-01-15' '2013-01-16'\n",
      " '2013-01-17' '2013-01-18' '2013-01-22' '2013-01-23' '2013-01-24'\n",
      " '2013-01-25' '2013-01-28' '2013-01-29' '2013-01-30' '2013-01-31'\n",
      " '2013-02-01' '2013-02-04' '2013-02-05' '2013-02-06' '2013-02-07'\n",
      " '2013-02-08' '2013-02-11' '2013-02-12' '2013-02-13' '2013-02-14'\n",
      " '2013-02-15' '2013-02-19' '2013-02-20' '2013-02-21' '2013-02-22'\n",
      " '2013-02-25' '2013-02-26' '2013-02-27' '2013-02-28' '2013-03-01'\n",
      " '2013-03-04' '2013-03-05' '2013-03-06' '2013-03-07' '2013-03-08'\n",
      " '2013-03-11' '2013-03-12' '2013-03-13' '2013-03-14' '2013-03-15'\n",
      " '2013-03-18' '2013-03-19' '2013-03-20' '2013-03-21' '2013-03-22'\n",
      " '2013-03-25' '2013-03-26' '2013-03-27' '2013-03-28' '2013-04-01'\n",
      " '2013-04-02' '2013-04-03' '2013-04-04' '2013-04-05' '2013-04-08'\n",
      " '2013-04-09' '2013-04-10' '2013-04-11' '2013-04-12' '2013-04-15'\n",
      " '2013-04-16' '2013-04-17' '2013-04-18' '2013-04-19' '2013-04-22'\n",
      " '2013-04-23' '2013-04-24' '2013-04-25' '2013-04-26' '2013-04-29'\n",
      " '2013-04-30' '2013-05-01' '2013-05-02' '2013-05-03' '2013-05-06'\n",
      " '2013-05-07' '2013-05-08' '2013-05-09' '2013-05-10' '2013-05-13'\n",
      " '2013-05-14' '2013-05-15' '2013-05-16' '2013-05-17' '2013-05-20'\n",
      " '2013-05-21' '2013-05-22' '2013-05-23' '2013-05-24' '2013-05-28'\n",
      " '2013-05-29' '2013-05-30' '2013-05-31' '2013-06-03' '2013-06-04'\n",
      " '2013-06-05' '2013-06-06' '2013-06-07' '2013-06-10' '2013-06-11'\n",
      " '2013-06-12' '2013-06-13' '2013-06-14' '2013-06-17' '2013-06-18'\n",
      " '2013-06-19' '2013-06-20' '2013-06-21' '2013-06-24' '2013-06-25'\n",
      " '2013-06-26' '2013-06-27' '2013-06-28' '2013-07-01' '2013-07-02'\n",
      " '2013-07-03' '2013-07-05' '2013-07-08' '2013-07-09' '2013-07-10'\n",
      " '2013-07-11' '2013-07-12' '2013-07-15' '2013-07-16' '2013-07-17'\n",
      " '2013-07-18' '2013-07-19' '2013-07-22' '2013-07-23' '2013-07-24'\n",
      " '2013-07-25' '2013-07-26' '2013-07-29' '2013-07-30' '2013-07-31'\n",
      " '2013-08-01' '2013-08-02' '2013-08-05' '2013-08-06' '2013-08-07'\n",
      " '2013-08-08' '2013-08-09' '2013-08-12' '2013-08-13' '2013-08-14'\n",
      " '2013-08-15' '2013-08-16' '2013-08-19' '2013-08-20' '2013-08-21'\n",
      " '2013-08-22' '2013-08-23' '2013-08-26' '2013-08-27' '2013-08-28'\n",
      " '2013-08-29' '2013-08-30' '2013-09-03' '2013-09-04' '2013-09-05'\n",
      " '2013-09-06' '2013-09-09' '2013-09-10' '2013-09-11' '2013-09-12'\n",
      " '2013-09-13' '2013-09-16' '2013-09-17' '2013-09-18' '2013-09-19'\n",
      " '2013-09-20' '2013-09-23' '2013-09-24' '2013-09-25' '2013-09-26'\n",
      " '2013-09-27' '2013-09-30' '2013-10-01' '2013-10-02' '2013-10-03'\n",
      " '2013-10-04' '2013-10-07' '2013-10-08' '2013-10-09' '2013-10-10'\n",
      " '2013-10-11' '2013-10-14' '2013-10-15' '2013-10-16' '2013-10-17'\n",
      " '2013-10-18' '2013-10-21' '2013-10-22' '2013-10-23' '2013-10-24'\n",
      " '2013-10-25' '2013-10-28' '2013-10-29' '2013-10-30' '2013-10-31'\n",
      " '2013-11-01' '2013-11-04' '2013-11-05' '2013-11-06' '2013-11-07'\n",
      " '2013-11-08' '2013-11-11' '2013-11-12' '2013-11-13' '2013-11-14'\n",
      " '2013-11-15' '2013-11-18' '2013-11-19' '2013-11-20' '2013-11-21'\n",
      " '2013-11-22' '2013-11-25' '2013-11-26' '2013-11-27' '2013-11-29'\n",
      " '2013-12-02' '2013-12-03' '2013-12-04' '2013-12-05' '2013-12-06'\n",
      " '2013-12-09' '2013-12-10' '2013-12-11' '2013-12-12' '2013-12-13'\n",
      " '2013-12-16' '2013-12-17' '2013-12-18' '2013-12-19' '2013-12-20'\n",
      " '2013-12-23' '2013-12-24' '2013-12-26' '2013-12-27' '2013-12-30'\n",
      " '2013-12-31' '2014-01-02' '2014-01-03' '2014-01-06' '2014-01-07'\n",
      " '2014-01-08' '2014-01-09' '2014-01-10' '2014-01-13' '2014-01-14'\n",
      " '2014-01-15' '2014-01-16' '2014-01-17' '2014-01-21' '2014-01-22'\n",
      " '2014-01-23' '2014-01-24' '2014-01-27' '2014-01-28' '2014-01-29'\n",
      " '2014-01-30' '2014-01-31' '2014-02-03' '2014-02-04' '2014-02-05'\n",
      " '2014-02-06' '2014-02-07' '2014-02-10' '2014-02-11' '2014-02-12'\n",
      " '2014-02-13' '2014-02-14' '2014-02-18' '2014-02-19' '2014-02-20'\n",
      " '2014-02-21' '2014-02-24' '2014-02-25' '2014-02-26' '2014-02-27'\n",
      " '2014-02-28' '2014-03-03' '2014-03-04' '2014-03-05' '2014-03-06'\n",
      " '2014-03-07' '2014-03-10' '2014-03-11' '2014-03-12' '2014-03-13'\n",
      " '2014-03-14' '2014-03-17' '2014-03-18' '2014-03-19' '2014-03-20'\n",
      " '2014-03-21' '2014-03-24' '2014-03-25' '2014-03-26' '2014-03-27'\n",
      " '2014-03-28' '2014-03-31' '2014-04-01' '2014-04-02' '2014-04-03'\n",
      " '2014-04-04' '2014-04-07' '2014-04-08' '2014-04-09' '2014-04-10'\n",
      " '2014-04-11' '2014-04-14' '2014-04-15' '2014-04-16' '2014-04-17'\n",
      " '2014-04-21' '2014-04-22' '2014-04-23' '2014-04-24' '2014-04-25'\n",
      " '2014-04-28' '2014-04-29' '2014-04-30' '2014-05-01' '2014-05-02'\n",
      " '2014-05-05' '2014-05-06' '2014-05-07' '2014-05-08' '2014-05-09'\n",
      " '2014-05-12' '2014-05-13' '2014-05-14' '2014-05-15' '2014-05-16'\n",
      " '2014-05-19' '2014-05-20' '2014-05-21' '2014-05-22' '2014-05-23'\n",
      " '2014-05-27' '2014-05-28' '2014-05-29' '2014-05-30' '2014-06-02'\n",
      " '2014-06-03' '2014-06-04' '2014-06-05' '2014-06-06' '2014-06-09'\n",
      " '2014-06-10' '2014-06-11' '2014-06-12' '2014-06-13' '2014-06-16'\n",
      " '2014-06-17' '2014-06-18' '2014-06-19' '2014-06-20' '2014-06-23'\n",
      " '2014-06-24' '2014-06-25' '2014-06-26' '2014-06-27' '2014-06-30'\n",
      " '2014-07-01' '2014-07-02' '2014-07-03' '2014-07-07' '2014-07-08'\n",
      " '2014-07-09' '2014-07-10' '2014-07-11' '2014-07-14' '2014-07-15'\n",
      " '2014-07-16' '2014-07-17' '2014-07-18' '2014-07-21' '2014-07-22'\n",
      " '2014-07-23' '2014-07-24' '2014-07-25' '2014-07-28' '2014-07-29'\n",
      " '2014-07-30' '2014-07-31' '2014-08-01' '2014-08-04' '2014-08-05'\n",
      " '2014-08-06' '2014-08-07' '2014-08-08' '2014-08-11' '2014-08-12'\n",
      " '2014-08-13' '2014-08-14' '2014-08-15' '2014-08-18' '2014-08-19'\n",
      " '2014-08-20' '2014-08-21' '2014-08-22' '2014-08-25' '2014-08-26'\n",
      " '2014-08-27' '2014-08-28' '2014-08-29' '2014-09-02' '2014-09-03'\n",
      " '2014-09-04' '2014-09-05' '2014-09-08' '2014-09-09' '2014-09-10'\n",
      " '2014-09-11' '2014-09-12' '2014-09-15' '2014-09-16' '2014-09-17'\n",
      " '2014-09-18' '2014-09-19' '2014-09-22' '2014-09-23' '2014-09-24'\n",
      " '2014-09-25' '2014-09-26' '2014-09-29' '2014-09-30' '2014-10-01'\n",
      " '2014-10-02' '2014-10-03' '2014-10-06' '2014-10-07' '2014-10-08'\n",
      " '2014-10-09' '2014-10-10' '2014-10-13' '2014-10-14' '2014-10-15'\n",
      " '2014-10-16' '2014-10-17' '2014-10-20' '2014-10-21' '2014-10-22'\n",
      " '2014-10-23' '2014-10-24' '2014-10-27' '2014-10-28' '2014-10-29'\n",
      " '2014-10-30' '2014-10-31' '2014-11-03' '2014-11-04' '2014-11-05'\n",
      " '2014-11-06' '2014-11-07' '2014-11-10' '2014-11-11' '2014-11-12'\n",
      " '2014-11-13' '2014-11-14' '2014-11-17' '2014-11-18' '2014-11-19'\n",
      " '2014-11-20' '2014-11-21' '2014-11-24' '2014-11-25' '2014-11-26'\n",
      " '2014-11-28' '2014-12-01' '2014-12-02' '2014-12-03' '2014-12-04'\n",
      " '2014-12-05' '2014-12-08' '2014-12-09' '2014-12-10' '2014-12-11'\n",
      " '2014-12-12' '2014-12-15' '2014-12-16' '2014-12-17' '2014-12-18'\n",
      " '2014-12-19' '2014-12-22' '2014-12-23' '2014-12-24' '2014-12-26'\n",
      " '2014-12-29' '2014-12-30' '2014-12-31' '2015-01-02' '2015-01-05'\n",
      " '2015-01-06' '2015-01-07' '2015-01-08' '2015-01-09' '2015-01-12'\n",
      " '2015-01-13' '2015-01-14' '2015-01-15' '2015-01-16' '2015-01-20'\n",
      " '2015-01-21' '2015-01-22' '2015-01-23' '2015-01-26' '2015-01-27'\n",
      " '2015-01-28' '2015-01-29' '2015-01-30' '2015-02-02' '2015-02-03'\n",
      " '2015-02-04' '2015-02-05' '2015-02-06' '2015-02-09' '2015-02-10'\n",
      " '2015-02-11' '2015-02-12' '2015-02-13' '2015-02-17' '2015-02-18'\n",
      " '2015-02-19' '2015-02-20' '2015-02-23' '2015-02-24' '2015-02-25'\n",
      " '2015-02-26' '2015-02-27' '2015-03-02' '2015-03-03' '2015-03-04'\n",
      " '2015-03-05' '2015-03-06' '2015-03-09' '2015-03-10' '2015-03-11'\n",
      " '2015-03-12' '2015-03-13' '2015-03-16' '2015-03-17' '2015-03-18'\n",
      " '2015-03-19' '2015-03-20' '2015-03-23' '2015-03-24' '2015-03-25'\n",
      " '2015-03-26' '2015-03-27' '2015-03-30' '2015-03-31' '2015-04-01'\n",
      " '2015-04-02' '2015-04-06' '2015-04-07' '2015-04-08' '2015-04-09'\n",
      " '2015-04-10' '2015-04-13' '2015-04-14' '2015-04-15' '2015-04-16'\n",
      " '2015-04-17' '2015-04-20' '2015-04-21' '2015-04-22' '2015-04-23'\n",
      " '2015-04-24' '2015-04-27' '2015-04-28' '2015-04-29' '2015-04-30'\n",
      " '2015-05-01' '2015-05-04' '2015-05-05' '2015-05-06' '2015-05-07'\n",
      " '2015-05-08' '2015-05-11' '2015-05-12' '2015-05-13' '2015-05-14'\n",
      " '2015-05-15' '2015-05-18' '2015-05-19' '2015-05-20' '2015-05-21'\n",
      " '2015-05-22' '2015-05-26' '2015-05-27' '2015-05-28' '2015-05-29'\n",
      " '2015-06-01' '2015-06-02' '2015-06-03' '2015-06-04' '2015-06-05'\n",
      " '2015-06-08' '2015-06-09' '2015-06-10' '2015-06-11' '2015-06-12'\n",
      " '2015-06-15' '2015-06-16' '2015-06-17' '2015-06-18' '2015-06-19'\n",
      " '2015-06-22' '2015-06-23' '2015-06-24' '2015-06-25' '2015-06-26'\n",
      " '2015-06-29' '2015-06-30' '2015-07-01' '2015-07-02' '2015-07-06'\n",
      " '2015-07-07' '2015-07-08' '2015-07-09' '2015-07-10' '2015-07-13'\n",
      " '2015-07-14' '2015-07-15' '2015-07-16' '2015-07-17' '2015-07-20'\n",
      " '2015-07-21' '2015-07-22' '2015-07-23' '2015-07-24' '2015-07-27'\n",
      " '2015-07-28' '2015-07-29' '2015-07-30' '2015-07-31' '2015-08-03'\n",
      " '2015-08-04' '2015-08-05' '2015-08-06' '2015-08-07' '2015-08-10'\n",
      " '2015-08-11' '2015-08-12' '2015-08-13' '2015-08-14' '2015-08-17'\n",
      " '2015-08-18' '2015-08-19' '2015-08-20' '2015-08-21' '2015-08-24'\n",
      " '2015-08-25' '2015-08-26' '2015-08-27' '2015-08-28' '2015-08-31'\n",
      " '2015-09-01' '2015-09-02' '2015-09-03' '2015-09-04' '2015-09-08'\n",
      " '2015-09-09' '2015-09-10' '2015-09-11' '2015-09-14' '2015-09-15'\n",
      " '2015-09-16' '2015-09-17' '2015-09-18' '2015-09-21' '2015-09-22'\n",
      " '2015-09-23' '2015-09-24' '2015-09-25' '2015-09-28' '2015-09-29'\n",
      " '2015-09-30' '2015-10-01' '2015-10-02' '2015-10-05' '2015-10-06'\n",
      " '2015-10-07' '2015-10-08' '2015-10-09' '2015-10-12' '2015-10-13'\n",
      " '2015-10-14' '2015-10-15' '2015-10-16' '2015-10-19' '2015-10-20'\n",
      " '2015-10-21' '2015-10-22' '2015-10-23' '2015-10-26' '2015-10-27'\n",
      " '2015-10-28' '2015-10-29' '2015-10-30' '2015-11-02' '2015-11-03'\n",
      " '2015-11-04' '2015-11-05' '2015-11-06' '2015-11-09' '2015-11-10'\n",
      " '2015-11-11' '2015-11-12' '2015-11-13' '2015-11-16' '2015-11-17'\n",
      " '2015-11-18' '2015-11-19' '2015-11-20' '2015-11-23' '2015-11-24'\n",
      " '2015-11-25' '2015-11-27' '2015-11-30' '2015-12-01' '2015-12-02'\n",
      " '2015-12-03' '2015-12-04' '2015-12-07' '2015-12-08' '2015-12-09'\n",
      " '2015-12-10' '2015-12-11' '2015-12-14' '2015-12-15' '2015-12-16'\n",
      " '2015-12-17' '2015-12-18' '2015-12-21' '2015-12-22' '2015-12-23'\n",
      " '2015-12-24' '2015-12-28' '2015-12-29' '2015-12-30' '2015-12-31'\n",
      " '2016-01-04' '2016-01-05' '2016-01-06' '2016-01-07' '2016-01-08'\n",
      " '2016-01-11' '2016-01-12' '2016-01-13' '2016-01-14' '2016-01-15'\n",
      " '2016-01-19' '2016-01-20' '2016-01-21' '2016-01-22' '2016-01-25'\n",
      " '2016-01-26' '2016-01-27' '2016-01-28' '2016-01-29' '2016-02-01'\n",
      " '2016-02-02' '2016-02-03' '2016-02-04' '2016-02-05']\n",
      "2012-03-02\n"
     ]
    }
   ],
   "source": [
    "print df.date.values\n",
    "first_date = df.date.values[0]\n",
    "print first_date"
   ]
  },
  {
   "cell_type": "code",
   "execution_count": 25,
   "metadata": {
    "collapsed": false
   },
   "outputs": [
    {
     "data": {
      "text/plain": [
       "datetime.datetime(2012, 3, 2, 0, 0)"
      ]
     },
     "execution_count": 25,
     "metadata": {},
     "output_type": "execute_result"
    }
   ],
   "source": [
    "datetime.strptime(first_date, \"%Y-%m-%d\")"
   ]
  },
  {
   "cell_type": "code",
   "execution_count": 26,
   "metadata": {
    "collapsed": false
   },
   "outputs": [
    {
     "name": "stdout",
     "output_type": "stream",
     "text": [
      "0   2012-03-02\n",
      "1   2012-03-05\n",
      "2   2012-03-06\n",
      "3   2012-03-07\n",
      "4   2012-03-08\n",
      "Name: date, dtype: datetime64[ns]\n"
     ]
    }
   ],
   "source": [
    "df.date = df.date.apply(lambda d: datetime.strptime(d, \"%Y-%m-%d\"))\n",
    "print df.date.head()"
   ]
  },
  {
   "cell_type": "markdown",
   "metadata": {},
   "source": [
    "Each row in a DataFrame is associated with an index, which is a label that uniquely identifies a row.\n",
    "\n",
    "The row indices so far have been auto-generated by pandas, and are simply integers starting from 0. From now on we will use dates instead of integers for indices-- the benefits of this will show later. Overwriting the index is as easy as assigning to the index property of the DataFrame.\n"
   ]
  },
  {
   "cell_type": "code",
   "execution_count": 27,
   "metadata": {
    "collapsed": false
   },
   "outputs": [
    {
     "name": "stdout",
     "output_type": "stream",
     "text": [
      "<class 'pandas.core.frame.DataFrame'>\n",
      "DatetimeIndex: 989 entries, 2012-03-02 to 2016-02-05\n",
      "Data columns (total 7 columns):\n",
      "date         989 non-null datetime64[ns]\n",
      "open         989 non-null float64\n",
      "high         989 non-null float64\n",
      "low          989 non-null float64\n",
      "close        989 non-null float64\n",
      "volume       989 non-null int64\n",
      "adj_close    989 non-null float64\n",
      "dtypes: datetime64[ns](1), float64(5), int64(1)\n",
      "memory usage: 61.8 KB\n",
      "None\n"
     ]
    }
   ],
   "source": [
    "df.index = df.date\n",
    "print df.info()"
   ]
  },
  {
   "cell_type": "markdown",
   "metadata": {},
   "source": [
    "#### Accessing rows of the DataFrame using index values"
   ]
  },
  {
   "cell_type": "code",
   "execution_count": 28,
   "metadata": {
    "collapsed": false
   },
   "outputs": [
    {
     "data": {
      "text/plain": [
       "date         2015-01-23 00:00:00\n",
       "open                       54.66\n",
       "high                       55.64\n",
       "low                         54.3\n",
       "close                      55.19\n",
       "volume                   1636400\n",
       "adj_close                  55.19\n",
       "Name: 2015-01-23 00:00:00, dtype: object"
      ]
     },
     "execution_count": 28,
     "metadata": {},
     "output_type": "execute_result"
    }
   ],
   "source": [
    "df.ix[datetime(2015,1,23,0,0)]"
   ]
  },
  {
   "cell_type": "markdown",
   "metadata": {},
   "source": [
    "#### Accessing individual rows using iloc[ ]"
   ]
  },
  {
   "cell_type": "code",
   "execution_count": 29,
   "metadata": {
    "collapsed": false
   },
   "outputs": [
    {
     "data": {
      "text/plain": [
       "date         2012-03-02 00:00:00\n",
       "open                       22.01\n",
       "high                          26\n",
       "low                           22\n",
       "close                      24.58\n",
       "volume                   4809400\n",
       "adj_close                  24.58\n",
       "Name: 2012-03-02 00:00:00, dtype: object"
      ]
     },
     "execution_count": 29,
     "metadata": {},
     "output_type": "execute_result"
    }
   ],
   "source": [
    "df.iloc[0,:]"
   ]
  },
  {
   "cell_type": "markdown",
   "metadata": {},
   "source": [
    "#### Iterating over the rows using **iterrows( )**"
   ]
  },
  {
   "cell_type": "code",
   "execution_count": 30,
   "metadata": {
    "collapsed": false
   },
   "outputs": [
    {
     "name": "stdout",
     "output_type": "stream",
     "text": [
      "The total number of positive-gain days : 482\n"
     ]
    }
   ],
   "source": [
    "num_positive_days = 0\n",
    "for idx, row in df.iterrows():\n",
    "    if row.close > row.open:\n",
    "        num_positive_days += 1\n",
    "        \n",
    "print \"The total number of positive-gain days : \" + str(num_positive_days)"
   ]
  },
  {
   "cell_type": "markdown",
   "metadata": {},
   "source": [
    "#### Droping a column"
   ]
  },
  {
   "cell_type": "markdown",
   "metadata": {},
   "source": [
    "Now that we have made an index based on date, we can drop the actual ``date\" column"
   ]
  },
  {
   "cell_type": "code",
   "execution_count": 31,
   "metadata": {
    "collapsed": false
   },
   "outputs": [
    {
     "name": "stdout",
     "output_type": "stream",
     "text": [
      "<class 'pandas.core.frame.DataFrame'>\n",
      "DatetimeIndex: 989 entries, 2012-03-02 to 2016-02-05\n",
      "Data columns (total 6 columns):\n",
      "open         989 non-null float64\n",
      "high         989 non-null float64\n",
      "low          989 non-null float64\n",
      "close        989 non-null float64\n",
      "volume       989 non-null int64\n",
      "adj_close    989 non-null float64\n",
      "dtypes: float64(5), int64(1)\n",
      "memory usage: 54.1 KB\n",
      "None\n",
      "Index([u'open', u'high', u'low', u'close', u'volume', u'adj_close'], dtype='object')\n"
     ]
    }
   ],
   "source": [
    "df = df.drop(['date'],axis=1)\n",
    "print df.info()\n",
    "print df.columns"
   ]
  },
  {
   "cell_type": "markdown",
   "metadata": {},
   "source": [
    "## Filtering"
   ]
  },
  {
   "cell_type": "markdown",
   "metadata": {},
   "source": [
    "Selecting interesting rows from the data.  All operations below return a DataFrame, which can be treated the same way as all DataFrames we have seen so far."
   ]
  },
  {
   "cell_type": "code",
   "execution_count": 32,
   "metadata": {
    "collapsed": false
   },
   "outputs": [
    {
     "name": "stdout",
     "output_type": "stream",
     "text": [
      "                 open   high        low      close   volume  adj_close\n",
      "date                                                                  \n",
      "2012-03-02  22.010000  26.00  22.000000  24.580000  4809400  24.580000\n",
      "2012-03-06  19.830000  20.50  19.360001  20.500000  1154300  20.500000\n",
      "2012-03-12  19.799999  22.49  19.520000  22.490000  1358200  22.490000\n",
      "2012-03-13  22.549999  24.40  22.200001  23.299999  2053900  23.299999\n",
      "2012-03-19  22.200001  23.93  21.700001  22.990000   858400  22.990000\n",
      "482\n"
     ]
    }
   ],
   "source": [
    "positive_days = df[df.close > df.open]\n",
    "print positive_days.head()\n",
    "print len(positive_days)"
   ]
  },
  {
   "cell_type": "code",
   "execution_count": null,
   "metadata": {
    "collapsed": false
   },
   "outputs": [],
   "source": [
    "very_positive_days = df[df.close-df.open > 4]\n",
    "print len(very_positive_days)\n",
    "#print very_positive_days.head()"
   ]
  },
  {
   "cell_type": "code",
   "execution_count": null,
   "metadata": {
    "collapsed": false
   },
   "outputs": [],
   "source": [
    "tmp_high = df.high > 60\n",
    "print type(tmp_high)"
   ]
  },
  {
   "cell_type": "code",
   "execution_count": null,
   "metadata": {
    "collapsed": false
   },
   "outputs": [],
   "source": [
    "print tmp_high.head()\n",
    "print len(tmp_high)"
   ]
  },
  {
   "cell_type": "markdown",
   "metadata": {},
   "source": [
    "Select only the rows of **df** that correspond to **tmp_high**"
   ]
  },
  {
   "cell_type": "code",
   "execution_count": null,
   "metadata": {
    "collapsed": false
   },
   "outputs": [],
   "source": [
    "print df[tmp_high]"
   ]
  },
  {
   "cell_type": "markdown",
   "metadata": {},
   "source": [
    "## Creating new columns"
   ]
  },
  {
   "cell_type": "code",
   "execution_count": null,
   "metadata": {
    "collapsed": false
   },
   "outputs": [],
   "source": [
    "df['profit'] = (df.open < df.close)\n",
    "print df.head()"
   ]
  },
  {
   "cell_type": "code",
   "execution_count": null,
   "metadata": {
    "collapsed": false
   },
   "outputs": [],
   "source": [
    "for idx, row in df.iterrows():\n",
    "    if row.close > row.open:\n",
    "        df.ix[idx,'gain']='negative'\n",
    "    elif (row.open - row.close) < 1:\n",
    "        df.ix[idx,'gain']='small_gain'\n",
    "    elif (row.open - row.close) < 6:\n",
    "        df.ix[idx,'gain']='medium_gain'\n",
    "    else:\n",
    "        df.ix[idx,'gain']='large_gain'\n",
    "print df.head()"
   ]
  },
  {
   "cell_type": "markdown",
   "metadata": {},
   "source": [
    "#### Alternatively"
   ]
  },
  {
   "cell_type": "code",
   "execution_count": null,
   "metadata": {
    "collapsed": false
   },
   "outputs": [],
   "source": [
    "def namerow(row):\n",
    "    if row.close > row.open:\n",
    "        return 'negative'\n",
    "    elif (row.open - row.close) < 1:\n",
    "        return 'small_gain'\n",
    "    elif (row.open - row.close) < 6:\n",
    "        return 'medium_gain'\n",
    "    else:\n",
    "        return 'large_gain'\n",
    "\n",
    "df['test_column'] = df.apply(namerow, axis = 1)\n"
   ]
  },
  {
   "cell_type": "code",
   "execution_count": null,
   "metadata": {
    "collapsed": false
   },
   "outputs": [],
   "source": [
    "print df.head()"
   ]
  },
  {
   "cell_type": "code",
   "execution_count": null,
   "metadata": {
    "collapsed": false
   },
   "outputs": [],
   "source": [
    "df.drop('test_column', axis = 1)"
   ]
  },
  {
   "cell_type": "markdown",
   "metadata": {},
   "source": [
    "## Grouping"
   ]
  },
  {
   "cell_type": "markdown",
   "metadata": {},
   "source": [
    "Besides **apply()**, another great DataFrame function is **groupby()**. It will group a DataFrame by one or more columns, and let you iterate through each group.\n",
    "\n",
    "Here we will show the average gain among the three categories of negative, small, medium and large gains we defined above and stored in column ``gain\""
   ]
  },
  {
   "cell_type": "code",
   "execution_count": null,
   "metadata": {
    "collapsed": false
   },
   "outputs": [],
   "source": [
    "gains = {}\n",
    "for gain, gain_data in df.groupby(\"gain\"):\n",
    "    gains[gain] = gain_data.close.mean()\n",
    "gains"
   ]
  },
  {
   "cell_type": "markdown",
   "metadata": {},
   "source": [
    "## Comparing multiple stocks"
   ]
  },
  {
   "cell_type": "markdown",
   "metadata": {},
   "source": [
    "As a last task, we will use the experience we obtained so far -- and learn some new things -- in order to compare the performance of different stocks we obtained from Yahoo finance."
   ]
  },
  {
   "cell_type": "code",
   "execution_count": null,
   "metadata": {
    "collapsed": false
   },
   "outputs": [],
   "source": [
    "stocks = ['ORCL', 'TSLA', 'IBM','YELP', 'MSFT']\n",
    "attr = 'Close'\n",
    "df = pd.io.data.get_data_yahoo(stocks, \n",
    "                               start=datetime(2014, 1, 1), \n",
    "                               end=datetime(2014, 12, 31))[attr]\n",
    "print df.head()"
   ]
  },
  {
   "cell_type": "code",
   "execution_count": null,
   "metadata": {
    "collapsed": false
   },
   "outputs": [],
   "source": [
    "df.ORCL.plot(label = 'oracle')\n",
    "df.TSLA.plot(label = 'tesla')\n",
    "df.IBM.plot(label = 'ibm')\n",
    "df.MSFT.plot(label = 'msft')\n",
    "df.YELP.plot(label = 'yelp')\n",
    "plt.legend(loc=5)"
   ]
  },
  {
   "cell_type": "markdown",
   "metadata": {},
   "source": [
    "#### Calculating returns over a period of length T"
   ]
  },
  {
   "cell_type": "markdown",
   "metadata": {},
   "source": [
    "$$r(t) = \\frac{f(t)-f(t-T)}{f(t)} $$\n",
    "\n",
    "The returns can be computed in python with a simple function **pct_returns( ) **"
   ]
  },
  {
   "cell_type": "code",
   "execution_count": null,
   "metadata": {
    "collapsed": false
   },
   "outputs": [],
   "source": [
    "rets = df.pct_change(30)\n",
    "#print rets.head(20)"
   ]
  },
  {
   "cell_type": "markdown",
   "metadata": {},
   "source": [
    "Plotting again the timeseries of the returns of the different stocks"
   ]
  },
  {
   "cell_type": "code",
   "execution_count": null,
   "metadata": {
    "collapsed": false
   },
   "outputs": [],
   "source": [
    "rets.ORCL.plot(label = 'oracle')\n",
    "rets.TSLA.plot(label = 'tesla')\n",
    "rets.IBM.plot(label = 'ibm')\n",
    "rets.MSFT.plot(label = 'msft')\n",
    "rets.YELP.plot(label = 'yelp')\n",
    "plt.legend()"
   ]
  },
  {
   "cell_type": "code",
   "execution_count": null,
   "metadata": {
    "collapsed": false
   },
   "outputs": [],
   "source": [
    "plt.scatter(rets.TSLA, rets.ORCL)\n",
    "plt.xlabel('Returns TESLA')\n",
    "plt.ylabel('Returns ORCL')"
   ]
  },
  {
   "cell_type": "markdown",
   "metadata": {},
   "source": [
    "#### Correlations of columns"
   ]
  },
  {
   "cell_type": "markdown",
   "metadata": {},
   "source": [
    "The correlation coefficient between variables $X$ and $Y$ is defined as follows:\n",
    "$$\\text{Corr}(X,Y) = \\frac{E\\left[(X-\\mu_X)(Y-\\mu_Y)\\right]}{\\sigma_X\\sigma_Y}$$\n",
    "\n",
    "In python we can compute the correlation coefficient of all pairs of columns with **corr( )**"
   ]
  },
  {
   "cell_type": "code",
   "execution_count": null,
   "metadata": {
    "collapsed": false
   },
   "outputs": [],
   "source": [
    "corr = rets.corr()\n",
    "print corr"
   ]
  },
  {
   "cell_type": "markdown",
   "metadata": {},
   "source": [
    "#### Visualizing the correlation coefficient of all columns"
   ]
  },
  {
   "cell_type": "markdown",
   "metadata": {},
   "source": [
    "We will learn more about visualization later, but for now this is a simple example"
   ]
  },
  {
   "cell_type": "code",
   "execution_count": null,
   "metadata": {
    "collapsed": false
   },
   "outputs": [],
   "source": [
    "sns.heatmap(corr, annot=True)"
   ]
  },
  {
   "cell_type": "markdown",
   "metadata": {},
   "source": [
    "#### Returns vs risk (standard deviation)"
   ]
  },
  {
   "cell_type": "markdown",
   "metadata": {},
   "source": [
    "In many applications, we want to know both the returns as well as the standard deviation of the returns of a stock (i.e., its risk).  Below we visualize the result of such an analysis"
   ]
  },
  {
   "cell_type": "code",
   "execution_count": null,
   "metadata": {
    "collapsed": false
   },
   "outputs": [],
   "source": [
    "plt.scatter(rets.mean(), rets.std())\n",
    "plt.xlabel('Expected returns')\n",
    "plt.ylabel('Standard Deviation (Risk)')\n",
    "for label, x, y in zip(rets.columns, rets.mean(), rets.std()):\n",
    "    plt.annotate(\n",
    "        label, \n",
    "        xy = (x, y), xytext = (20, -20),\n",
    "        textcoords = 'offset points', ha = 'right', va = 'bottom',\n",
    "        bbox = dict(boxstyle = 'round,pad=0.5', fc = 'yellow', alpha = 0.5),\n",
    "        arrowprops = dict(arrowstyle = '->', connectionstyle = 'arc3,rad=0'))"
   ]
  },
  {
   "cell_type": "code",
   "execution_count": null,
   "metadata": {
    "collapsed": false
   },
   "outputs": [],
   "source": [
    "# Code for setting the style of the notebook\n",
    "from IPython.core.display import HTML\n",
    "def css_styling():\n",
    "    styles = open(\"../theme/custom.css\", \"r\").read()\n",
    "    return HTML(styles)\n",
    "css_styling()"
   ]
  },
  {
   "cell_type": "code",
   "execution_count": null,
   "metadata": {
    "collapsed": true
   },
   "outputs": [],
   "source": []
  }
 ],
 "metadata": {
  "celltoolbar": "Raw Cell Format",
  "kernelspec": {
   "display_name": "Python 2",
   "language": "python",
   "name": "python2"
  },
  "language_info": {
   "codemirror_mode": {
    "name": "ipython",
    "version": 2
   },
   "file_extension": ".py",
   "mimetype": "text/x-python",
   "name": "python",
   "nbconvert_exporter": "python",
   "pygments_lexer": "ipython2",
   "version": "2.7.11"
  }
 },
 "nbformat": 4,
 "nbformat_minor": 0
}
